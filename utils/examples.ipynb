{
 "cells": [
  {
   "cell_type": "markdown",
   "metadata": {
    "collapsed": true
   },
   "source": [
    "# Examples for pAGN"
   ]
  },
  {
   "cell_type": "markdown",
   "metadata": {},
   "source": [
    "These are some of the examples for the pAGN package"
   ]
  },
  {
   "cell_type": "markdown",
   "metadata": {},
   "source": [
    "## Getting Started"
   ]
  },
  {
   "cell_type": "markdown",
   "metadata": {},
   "source": [
    "First, import package"
   ]
  },
  {
   "cell_type": "code",
   "execution_count": 16,
   "metadata": {},
   "outputs": [],
   "source": [
    "import Thompson\n",
    "import Sirko\n",
    "import numpy as np\n",
    "import matplotlib.pyplot as plt\n",
    "import constants as ct"
   ]
  },
  {
   "cell_type": "markdown",
   "metadata": {},
   "source": [
    "Define input parameters for the AGN disk. "
   ]
  },
  {
   "cell_type": "code",
   "execution_count": 17,
   "metadata": {},
   "outputs": [],
   "source": [
    "#Sirko & Goodman 2003\n",
    "Mbh=1e8*ct.MSun #10^8 solar mass SMBH\n",
    "le=0.5 #Eddington ratio\n",
    "Mdot= None #let the accretion rate be calculated through lE\n",
    "alpha=0.01 #standard Shakura Sunyaev parameter value\n",
    "X=0.7 #Hydrogen abundance is 0.7 for this disk\n",
    "b=0 #Let's see the alpha-disk case\n",
    "Opacity=\"combined\" #most up to date opacity values"
   ]
  },
  {
   "cell_type": "code",
   "execution_count": 18,
   "metadata": {},
   "outputs": [],
   "source": [
    "#Thompson et al. 2005\n",
    "sigma = 300e3 #stellar dispersion relation\n",
    "mbh = (2e8*ct.MSun) * ((sigma / 200e3) ** 4) #let's use our own M-sigma relation to find mass\n",
    "epsilon=1e-3 #Star formation radiative efficiency\n",
    "m= 0.2 #Value for angular momentum efficiency as suggested by Thompson et al. 2005\n",
    "xi= 1. #Approximate supernovae radiative fraction as suggested by Thompson et al. 2005\n",
    "Mdot_out=None #For mbh in 10^8-10^9 Msun range, the outer accretion rate scaling should be sufficient for bright AGN formation\n",
    "Rout=None #Let's use 1e7 Schwarzchild radii for outer boundary\n",
    "Rin=None #Rin is 3 Schwarzchild radii \n",
    "opacity=\"combined\" #most up to date opacity values"
   ]
  },
  {
   "cell_type": "markdown",
   "metadata": {},
   "source": [
    "We now solve the disk equations. Note that when calling the SirkoAGN and ThompsonAGN models, there is a printout of the input parameters. This can be used to check that the units have been correctly converted and what the outputs of the scalings are."
   ]
  },
  {
   "cell_type": "code",
   "execution_count": 19,
   "metadata": {},
   "outputs": [
    {
     "name": "stdout",
     "output_type": "stream",
     "text": [
      "### Sirko & Goodman 2003 parameters ###\n",
      "Mbh = 1.000000e+08 MSun\n",
      "Mdot = 1.298344e+00 MSun/yr\n",
      "le = 0.5\n",
      "Rs = 9.570121e-06 pc\n",
      "Rmin = 2.500000e+00 Rs\n",
      "Rmax = 1.000000e+07 Rs, 9.570121e+01 pc\n",
      "alpha = 0.01\n",
      "b = 0\n",
      "eps = 0.1\n",
      "X = 0.7\n",
      "Opacity = combined\n",
      "\n",
      "debug = False\n",
      "xtol = 1e-10\n",
      "root method = lm\n",
      "Q<1 at i=3408 (R=7.92e+02 Rs)\n",
      "Beginning star formation at index 3408\n",
      "Mdisk = 335459537.4383986 Msun\n",
      "Mdisk/Mbh = 3.354595374383986\n"
     ]
    }
   ],
   "source": [
    "sk = Sirko.SirkoAGN(Mbh=Mbh, le=le, Mdot=Mdot, alpha=alpha, X=X, \n",
    "                    b=b, opacity = Opacity)\n",
    "sk.solve_disk(N=1e4) #10^4 tends to be a sufficient resolution for most Mbh values"
   ]
  },
  {
   "cell_type": "code",
   "execution_count": 31,
   "metadata": {
    "pycharm": {
     "is_executing": true
    },
    "scrolled": true
   },
   "outputs": [
    {
     "name": "stdout",
     "output_type": "stream",
     "text": [
      "### Thompson et al. 2005 parameters ###\n",
      "Mbh = 1.012500e+09 MSun\n",
      "Mdot_out = 8.311237e+03 MSun/yr\n",
      "Rs = 9.689748e-05 pc\n",
      "Rin = 3.000000e+00 Rs\n",
      "Rout = 1.000000e+07 Rs = 9.689748e+02 pc\n",
      "sigma = 3.000000e+02 km/s\n",
      "epsilon =  0.001\n",
      "m =  0.2\n",
      "xi =  1.0\n",
      "Opacity = custom\n",
      "\n",
      "debug = False\n",
      "xtol = 1e-10\n",
      "root method = lm\n",
      " ### Beginning integration at Rmax ###\n",
      "### Switching to no star formation regime at i = 6852, R = 88496.08074591904Rs ###\n",
      "Mdisk = 90039952747.54353 Msun\n",
      "Mdisk/Mbh = 88.92834839263558\n"
     ]
    }
   ],
   "source": [
    "tho = Thompson.ThompsonAGN(Mbh = mbh, sigma = sigma, epsilon = epsilon, m = m, xi = xi,\n",
    "                      Mdot_out= Mdot_out, Rout = Rout, Rin = Rin, opacity =opacity)\n",
    "tho.solve_disk(N=1e4)"
   ]
  },
  {
   "cell_type": "markdown",
   "metadata": {},
   "source": [
    "To quickly check that the Sirko & Goodman model ran correctly, we can plot some key parameters"
   ]
  },
  {
   "cell_type": "code",
   "execution_count": null,
   "metadata": {
    "pycharm": {
     "is_executing": true
    }
   },
   "outputs": [],
   "source": [
    "sk.plot()"
   ]
  },
  {
   "cell_type": "markdown",
   "metadata": {},
   "source": [
    "The Sirko & Goodman model tends to be simpler than the Thompson et al model. We expect the temperature of the disk to decrease with distance from the central BH, starting at values of 10^5-10^6 Kelvin, depending on the mass of the central BH. The h/r ratio should stay below one, at least in the inner regions of the disk. The vertical line shows where we have switched from the inner regime to the outer regime."
   ]
  },
  {
   "cell_type": "markdown",
   "metadata": {
    "pycharm": {
     "name": "#%% md\n"
    }
   },
   "source": [
    "We can similarly check the Thompson et al model ran correctly."
   ]
  },
  {
   "cell_type": "code",
   "execution_count": null,
   "metadata": {
    "pycharm": {
     "is_executing": true
    },
    "scrolled": true
   },
   "outputs": [],
   "source": [
    "tho.plot()"
   ]
  },
  {
   "cell_type": "markdown",
   "metadata": {
    "pycharm": {
     "name": "#%% md\n"
    }
   },
   "source": [
    "The Thompson et al. model tends to be more complicated than the Sirko & Goodman model. We expect the temperature of the disk to decrease with distance from the central BH, starting at values of 10^5 Kelvin and dropping to lower temperature values than for the Sirko & Goodman case, depending on the mass of the central BH. The optical depth $\\tau$ should look more complex than in the Sirko & Goodman case. The h/r ratio should stay below one, at least in the inner regions of the disk. The vertical line shows where we have switched from the inner regime to the outer regime."
   ]
  },
  {
   "cell_type": "markdown",
   "metadata": {
    "pycharm": {
     "name": "#%% md\n"
    }
   },
   "source": [
    "A significant difference between the Thompson et al. model and the Sirko and Goodman model is that the Thompson et al. model has a varying accretion rate $\\dot{M}$. To check that enough gas is being accreted onto the central BH, one can also plot the accretion rate in the Thompson et al. disk:"
   ]
  },
  {
   "cell_type": "code",
   "execution_count": null,
   "metadata": {
    "pycharm": {
     "is_executing": true
    }
   },
   "outputs": [],
   "source": [
    "tho.plot_mdot()"
   ]
  },
  {
   "cell_type": "markdown",
   "metadata": {
    "pycharm": {
     "name": "#%% md\n"
    }
   },
   "source": [
    "We see that in this case, $\\dot{M}_{\\rm out}$ is below the critical accretion rate $\\dot{M}_{\\rm c}$ at the outer boundary. However, the accretion rate at the central BH is $\\approx 5 \\, M_{\\odot}/{\\rm yr}$, which is deemed enough to fuel a bright AGN."
   ]
  },
  {
   "cell_type": "markdown",
   "metadata": {
    "pycharm": {
     "name": "#%% md\n"
    }
   },
   "source": [
    "One may also wish to save their results in a txt file."
   ]
  },
  {
   "cell_type": "code",
   "execution_count": null,
   "metadata": {
    "pycharm": {
     "is_executing": true,
     "name": "#%%\n"
    }
   },
   "outputs": [],
   "source": [
    "def save(obj, filename):\n",
    "    \"\"\"Method to save key AGN model parameters to filename\n",
    "    \n",
    "    Parameters\n",
    "    ----------\n",
    "    obj: object\n",
    "        Python object representing a solved AGN disk either from the Sirko & Goodman model\n",
    "        or from the Thompson model\n",
    "    \n",
    "    \"\"\"\n",
    "    pgas = sk.rho * sk.T * ct.Kb / ct.massU\n",
    "    prad = 4 * ct.sigmaSB * (sk.T ** 4) / (3 * ct.c)\n",
    "    cs = np.sqrt((pgas + prad) / (sk.rho))\n",
    "    omega = obj.Omega\n",
    "    rho = obj.rho\n",
    "    h = obj.h\n",
    "    T = obj.T\n",
    "    tauV = obj.tauV\n",
    "    Q = obj.Q\n",
    "    R = obj.R\n",
    "    if hasattr(obj, \"eta\"):\n",
    "        np.savetxt(filename, np.vstack((R/ct.pc, Omega, T, rho, h, obj.eta, cs, tauV, Q)).T)\n",
    "    else:\n",
    "        np.savetxt(filename, np.vstack((R/ct.pc, Omega, T, rho, h, cs, tauV, Q)).T)\n"
   ]
  },
  {
   "cell_type": "markdown",
   "metadata": {},
   "source": [
    "### Custom Opacity"
   ]
  },
  {
   "cell_type": "markdown",
   "metadata": {},
   "source": [
    "Both SirkoAGN and ThompsonAGN can take in a custom opacity. The opacity values have to be provided in a specific format for this to work. Below, we generate some fake opacity values and show how to input them into the models."
   ]
  },
  {
   "cell_type": "code",
   "execution_count": null,
   "metadata": {
    "pycharm": {
     "is_executing": true,
     "name": "#%%\n"
    }
   },
   "outputs": [],
   "source": [
    "#First, generate or provide the temperature and density arrays over which the opacity grid\n",
    "#is constructed. These must be in SI units. They should also ideally cover values of \n",
    "#rho in the range [10^-15 g/m^3, 10^-4 g/m^3] and temperature in the range [10 K, 10^6 K].\n",
    "rho_arr = np.logspace(-15, -4, 10)\n",
    "temp_arr = np.logspace(1, np.log10(999999), 1001)\n",
    "#generate kappa values in units of m^2/kg over this grid\n",
    "kappa_arr = np.ones((len(rho_arr), len(temp_arr)))*0.6 #simple example where opacity is 0.6 m^2/kg for all rho and T values\n",
    "\n",
    "print(kappa_arr.shape)\n",
    "#input the following into either models:\n",
    "opacity = (kappa_arr, rho_arr, temp_arr)\n",
    "\n",
    "#the Sirko & Goodman model with this custom opacity\n",
    "sk_co = Sirko.SirkoAGN(opacity = opacity)\n",
    "sk_co.solve_disk()\n",
    "\n",
    "tho_co = Thompson.ThompsonAGN(opacity = opacity)\n",
    "tho_co.solve_disk()"
   ]
  },
  {
   "cell_type": "code",
   "execution_count": null,
   "metadata": {
    "pycharm": {
     "is_executing": true,
     "name": "#%%\n"
    }
   },
   "outputs": [],
   "source": [
    "#As before, we can check the custom opacity models worked by quickly plotting the key parameters:\n",
    "sk_co.plot()\n",
    "tho_co.plot()"
   ]
  },
  {
   "cell_type": "code",
   "execution_count": null,
   "metadata": {
    "pycharm": {
     "is_executing": true,
     "name": "#%%\n"
    }
   },
   "outputs": [],
   "source": [
    "#We can also directly check what the opacity values look like for this disk:\n",
    "plt.plot(np.log10(sk_co.R), np.log10(sk_co.kappa), label = \"Sirko & Goodman\")\n",
    "plt.plot(np.log10(tho_co.R), np.log10(tho_co.kappa), \"--\", label = \"Thompson et al\")\n",
    "plt.xlim((12, 19))\n",
    "plt.ylim((-0.224, -0.22))\n",
    "plt.show()"
   ]
  },
  {
   "cell_type": "markdown",
   "metadata": {},
   "source": [
    "Unsurprisingly, we get a flat line for our $\\kappa$ values. "
   ]
  },
  {
   "cell_type": "markdown",
   "metadata": {},
   "source": [
    "### Luminosities"
   ]
  },
  {
   "cell_type": "markdown",
   "metadata": {},
   "source": [
    "To calculate the bolometric luminosity of the AGN disks, we use Eq. 47 from Thompson et al. 2005:\n",
    "\n",
    "\\begin{equation}\n",
    "L_{\\rm disk} = \\int_{\\lambda_{\\rm min}}^{\\lambda_{\\rm max}} L_{\\lambda} \\mathrm{d}\\lambda = 2 \\pi h c^2\\int_{\\lambda_{\\rm min}}^{\\lambda_{\\rm max}} \\frac{1}{\\lambda^4} \\mathrm{d}\\lambda \\int_{r_{\\rm min}}^{r_{\\rm out}} \\frac{2 \\pi r \\, \\mathrm{d}r}{\\exp{ \\{ \\frac{h c}{\\lambda T_{\\rm eff}  }\\} -1}}\n",
    "\\end{equation}"
   ]
  },
  {
   "cell_type": "markdown",
   "metadata": {},
   "source": [
    "We approximate these integrals as sums:"
   ]
  },
  {
   "cell_type": "code",
   "execution_count": null,
   "metadata": {
    "pycharm": {
     "is_executing": true
    }
   },
   "outputs": [],
   "source": [
    "def calculate_lum_sum(Teffarr, wavelengthmin, wavelengthmax, rarr, deltar):\n",
    "    \"\"\"Calculates luminosity of AGN disk using sums\n",
    "    \n",
    "    Parameters\n",
    "    ----------\n",
    "    Teffarr: array\n",
    "        Array of effective temperature values calculated for each value in rarr in K\n",
    "    wavelengthmin: float\n",
    "        Minimum wavelength value in m\n",
    "    wavelengthmax: float\n",
    "        Maximum wavelength value in m\n",
    "    rarr: array\n",
    "        Array of distance from central BH values in m\n",
    "    \n",
    "    Results\n",
    "    -------\n",
    "    I: float\n",
    "        Integrated value of luminosities over given wavelength range in Watts\n",
    "    \"\"\"\n",
    "    lambarredge = np.logspace(np.log10(wavelengthmin), np.log10(wavelengthmax), 1000)\n",
    "    deltalambda = lambarredge[1:] - lambarredge[:1]\n",
    "    lambarr = (lambarredge[:-1] + lambarredge[1:])/2\n",
    "    \n",
    "    r_int_arr = np.zeros(len(lambarr))\n",
    "    for il, lamb in enumerate(lambarr):\n",
    "        #the exponential factor in the integral. If it is too large, there is an overflow error, but these values give an integral value of zero so we can safely ignore their values.\n",
    "        exp_factor = ct.h * ct.c / (lamb * ct.Kb * Teffarr)\n",
    "        I_sum = sum(2*np.pi*rarr[exp_factor < 40]*deltar[exp_factor < 40]/(np.exp(exp_factor[exp_factor < 40])) - 1)\n",
    "        #calculate integral in r\n",
    "        r_int_arr[il] += I_sum\n",
    "    #calculate full integral\n",
    "    I = sum(2*np.pi*ct.h*ct.c*ct.c*deltalambda*r_int_arr/(lambarr*lambarr*lambarr*lambarr))\n",
    "    return I"
   ]
  },
  {
   "cell_type": "code",
   "execution_count": null,
   "metadata": {
    "pycharm": {
     "is_executing": true
    }
   },
   "outputs": [],
   "source": [
    "calculate_lum_sum(tho.Teff4**0.25, 1e-8, 1e-3, tho.R, tho.deltaR)"
   ]
  },
  {
   "cell_type": "markdown",
   "metadata": {
    "pycharm": {
     "name": "#%% md\n"
    }
   },
   "source": [
    "### Migration Torques"
   ]
  },
  {
   "cell_type": "markdown",
   "metadata": {
    "pycharm": {
     "name": "#%% md\n"
    }
   },
   "source": [
    "Below, we provide the code for a more in depth use case of pAGN, looking at the migration torques a 50 M$_\\odot$ BH in an AGN would experience while orbiting a central BH."
   ]
  },
  {
   "cell_type": "code",
   "execution_count": 53,
   "metadata": {},
   "outputs": [],
   "source": [
    "from scipy.interpolate import UnivariateSpline\n",
    "from opacities import electron_scattering_opacity\n",
    "import matplotlib.lines as mlines"
   ]
  },
  {
   "cell_type": "code",
   "execution_count": 50,
   "metadata": {
    "pycharm": {
     "is_executing": true,
     "name": "#%%\n"
    }
   },
   "outputs": [],
   "source": [
    "def gamma_0(q, hr, Sigma, r, Omega):\n",
    "    \"\"\"\n",
    "    Method to find the normalization torque\n",
    "    \n",
    "    Parameters\n",
    "    ----------\n",
    "    q: float/array\n",
    "        Float or array representing the mass ratio between the migrator and the central BH.\n",
    "    hr: float/array\n",
    "        Float or array representing the disk height to distance from central BH ratio.\n",
    "    Sigma: float/array\n",
    "        Float or array representing the disk surface density in kg/m^2\n",
    "    r: float/array\n",
    "        Float or array representing the distance from the central BH in m\n",
    "    Omega: float/array\n",
    "        Float or array representing the angular velocity at the migrator position in SI units.\n",
    "    \n",
    "    Returns\n",
    "    -------\n",
    "    gamma_0: float/array\n",
    "        Float or array representing the single-arm migration torque on the migrator in kg m^2/ s^2.\n",
    "    \n",
    "    \"\"\"\n",
    "    gamma_0 = q*q*Sigma*r*r*r*r*Omega*Omega/(hr*hr)\n",
    "    return gamma_0\n",
    "\n",
    "\n",
    "def gamma_iso(dSigmadR, dTdR):\n",
    "    \"\"\"\n",
    "    Method to find the locally isothermal torque.\n",
    "    \n",
    "    Parameters\n",
    "    ----------\n",
    "    dSigmadR: float/array\n",
    "        Discrete array representing the log surface density gradient in the disk.\n",
    "    dTdR: float/array\n",
    "        Discrete array representing the log thermal gradient in the disk.\n",
    "        \n",
    "    Returns\n",
    "    -------\n",
    "    gamma_iso: float/array\n",
    "        Float or array representing the locally isothermal torque on the migrator in kg m^2/ s^2.\n",
    "    \n",
    "    \"\"\"\n",
    "    alpha = - dSigmadR\n",
    "    beta = - dTdR\n",
    "    gamma_iso = - 0.85 - alpha - 0.9*beta\n",
    "    return gamma_iso\n",
    "\n",
    "\n",
    "def gamma_ad(dSigmadR, dTdR):\n",
    "    \"\"\"\n",
    "    Method to find the adiabatic torque.\n",
    "    \n",
    "    Parameters\n",
    "    ----------\n",
    "    dSigmadR: float/array\n",
    "        Discrete array representing the log surface density gradient in the disk.\n",
    "    dTdR: float/array\n",
    "        Discrete array representing the log thermal gradient in the disk.\n",
    "        \n",
    "    Returns\n",
    "    -------\n",
    "    gamma_ad: float/array\n",
    "        Float or array representing the adabiatic torque on the migrator in kg m^2/ s^2.\n",
    "    \n",
    "    \"\"\"\n",
    "    alpha = - dSigmadR\n",
    "    beta = - dTdR\n",
    "    gamma = 5/3\n",
    "    xi = beta - (gamma - 1)*alpha\n",
    "    gamma_ad = - 0.85 - alpha - 1.7*beta + 7.9*xi/gamma\n",
    "    return gamma_ad\n",
    "\n",
    "\n",
    "def dSigmadR(obj):\n",
    "    \"\"\"\n",
    "    Method that interpolates the surface density gradient of an AGN disk object.\n",
    "    \n",
    "    Parameters\n",
    "    ----------\n",
    "    obj: object\n",
    "        Either a SirkoAGN or ThompsonAGN object representing the AGN disk being considered.\n",
    "\n",
    "    Returns\n",
    "    -------\n",
    "    dSigmadR: float/array\n",
    "        Discrete array of the log surface density gradient.\n",
    "    \n",
    "    \"\"\"\n",
    "    Sigma = 2*obj.rho*obj.h # descrete\n",
    "    rlog10 = np.log10(obj.R)  # descrete\n",
    "    Sigmalog10 = np.log10(Sigma)  # descrete\n",
    "    Sigmalog10_spline = UnivariateSpline(rlog10, Sigmalog10, k=3, s=0.005, ext=0)  # need scipy ver 1.10.0\n",
    "    dSigmadR_spline =  Sigmalog10_spline.derivative()\n",
    "    dSigmadR = dSigmadR_spline(rlog10)\n",
    "    return dSigmadR\n",
    "\n",
    "\n",
    "def dTdR(obj):\n",
    "    \"\"\"\n",
    "    Method that interpolates the thermal gradient of an AGN disk object.\n",
    "    \n",
    "    Parameters\n",
    "    ----------\n",
    "    obj: object\n",
    "        Either a SirkoAGN or ThompsonAGN object representing the AGN disk being considered.\n",
    "\n",
    "    Returns\n",
    "    -------\n",
    "    dTdR: float/array\n",
    "        Discrete array of the log thermal gradient.\n",
    "    \n",
    "    \"\"\"\n",
    "    rlog10 = np.log10(obj.R)  # descrete\n",
    "    Tlog10 = np.log10(obj.T)  # descrete\n",
    "    Tlog10_spline = UnivariateSpline(rlog10, Tlog10, k=3, s=0.005, ext=0)  # need scipy ver 1.10.0\n",
    "    dTdR_spline = Tlog10_spline.derivative()\n",
    "    dTdR = dTdR_spline(rlog10)\n",
    "    return dTdR\n",
    "\n",
    "\n",
    "def dPdR(obj):\n",
    "    \"\"\"\n",
    "    Method that interpolates the total pressure gradient of an AGN disk object.\n",
    "    \n",
    "    Parameters\n",
    "    ----------\n",
    "    obj: object\n",
    "        Either a SirkoAGN or ThompsonAGN object representing the AGN disk being considered.\n",
    "\n",
    "    Returns\n",
    "    -------\n",
    "    dPdR: float/array\n",
    "        Discrete array of the log total pressure gradient.\n",
    "    \n",
    "    \"\"\"\n",
    "    rlog10 = np.log10(obj.R)  # descrete\n",
    "    pgas = obj.rho * obj.T * ct.Kb / ct.massU\n",
    "    prad = obj.tauV*ct.sigmaSB*obj.Teff4/(2*ct.c)\n",
    "    ptot = pgas + prad\n",
    "    Plog10 = np.log10(ptot)  # descrete\n",
    "    Plog10_spline = UnivariateSpline(rlog10, Plog10, k=3, s=0.005, ext=0)  # need scipy ver 1.10.0\n",
    "    dPdR_spline = Plog10_spline.derivative()\n",
    "    dPdR = dPdR_spline(rlog10)\n",
    "    return dPdR\n",
    "\n",
    "\n",
    "def CI_p10(dSigmadR, dTdR):\n",
    "    \"\"\"\n",
    "    Method to calculate torque coefficient for the Paardekooper et al. 2010 values.\n",
    "\n",
    "    Parameters\n",
    "    ----------\n",
    "    dSigmadR: float/array\n",
    "        Discrete array representing the log surface density gradient in the disk.\n",
    "    dTdR: float/array\n",
    "        Discrete array representing the log thermal gradient in the disk.\n",
    "\n",
    "    Returns\n",
    "    -------\n",
    "    cI: float/array\n",
    "        Paardekooper et al. 2010 migration torque coefficient\n",
    "    \"\"\"\n",
    "    cI = -0.85 + 0.9*dTdR + dSigmadR\n",
    "    return cI\n",
    "\n",
    "\n",
    "def CI_jm17_tot(dSigmadR, dTdR, gamma, obj):\n",
    "    \"\"\"\n",
    "    Method to calculate torque coefficient for the Jiménez and Masset 2017 values.\n",
    "\n",
    "    Parameters\n",
    "    ----------\n",
    "    dSigmadR: float/array\n",
    "        Discrete array representing the log surface density gradient in the disk.\n",
    "    dTdR: float/array\n",
    "        Discrete array representing the log thermal gradient in the disk.\n",
    "    gamma: float\n",
    "        Adiabatic index\n",
    "    obj: object\n",
    "        Either a SirkoAGN or ThompsonAGN object representing the AGN disk being considered.\n",
    "    \n",
    "\n",
    "    Returns\n",
    "    -------\n",
    "    cI: float/array\n",
    "        Jiménez and Masset 2017 migration torque coefficient\n",
    "    \"\"\"\n",
    "    cL = CL(dSigmadR, dTdR, gamma, obj)\n",
    "    cI = cL + (0.46 + 0.96*dSigmadR - 1.8*dTdR)/gamma\n",
    "    return cI\n",
    "\n",
    "\n",
    "def CI_jm17_iso(dSigmadR, dTdR):\n",
    "    \"\"\"\n",
    "    Method to calculate the locally isothermal torque coefficient for the Jiménez and Masset 2017 values.\n",
    "\n",
    "    Parameters\n",
    "    ----------\n",
    "    dSigmadR: float/array\n",
    "        Discrete array representing the log surface density gradient in the disk.\n",
    "    dTdR: float/array\n",
    "        Discrete array representing the log thermal gradient in the disk.\n",
    "\n",
    "    Returns\n",
    "    -------\n",
    "    cI: float/array\n",
    "        Jiménez and Masset 2017 migration locally isothermal torque coefficient\n",
    "    \"\"\"\n",
    "    cI = -1.36 + 0.54*dSigmadR + 0.5*dTdR\n",
    "    return cI\n",
    "\n",
    "\n",
    "def CL(dSigmadR, dTdR, gamma, obj):\n",
    "    \"\"\"\n",
    "    Method to calculate the Lindlblad torque for the Jiménez and Masset 2017 values.\n",
    "\n",
    "    Parameters\n",
    "    ----------\n",
    "    dSigmadR: float/array\n",
    "        Discrete array representing the log surface density gradient in the disk.\n",
    "    dTdR: float/array\n",
    "        Discrete array representing the log thermal gradient in the disk.\n",
    "    gamma: float\n",
    "        Adiabatic index\n",
    "    obj: object\n",
    "        Either a SirkoAGN or ThompsonAGN object representing the AGN disk being considered.\n",
    "    \n",
    "\n",
    "    Returns\n",
    "    -------\n",
    "    cL: float/array\n",
    "        Jiménez and Masset 2017 Lindblad torque coefficient\n",
    "    \"\"\"\n",
    "    xi = 16*gamma*(gamma - 1)*ct.sigmaSB*(obj.T*obj.T*obj.T*obj.T)\\\n",
    "         /(3*obj.kappa*obj.rho*obj.rho*obj.h*obj.h*obj.Omega*obj.Omega)\n",
    "    x2_sqrt = np.sqrt(xi/(2*obj.h*obj.h*obj.Omega))\n",
    "    fgamma = (x2_sqrt + 1/gamma)/(x2_sqrt+1)\n",
    "    cL = (-2.34 - 0.1*dSigmadR + 1.5*dTdR)*fgamma\n",
    "    return cL\n",
    "\n",
    "\n",
    "def gamma_thermal(gamma, obj, q):\n",
    "    \"\"\"\n",
    "    Method to calculate the thermal torque from the Masset 2017 equations.\n",
    "\n",
    "    Parameters\n",
    "    ----------\n",
    "    gamma: float\n",
    "        Adiabatic index\n",
    "    obj: object\n",
    "        Either a SirkoAGN or ThompsonAGN object representing the AGN disk being considered.\n",
    "    q: float/array\n",
    "        Float or array representing the mass ratio between the migrator and the central BH.\n",
    "\n",
    "    Returns\n",
    "    -------\n",
    "    g_thermal: float/array\n",
    "        Masset 2017 migration total thermal torque.\n",
    "    \"\"\"\n",
    "    xi = 16 * gamma * (gamma - 1) * ct.sigmaSB * (obj.T * obj.T * obj.T * obj.T) \\\n",
    "         / (3 * obj.kappa * obj.rho * obj.rho * obj.h * obj.h * obj.Omega * obj.Omega)\n",
    "    mbh = obj.Mbh*q\n",
    "    Lc = 4*np.pi*ct.G*mbh*obj.rho*xi/gamma\n",
    "    lam = np.sqrt(2*xi/(3*gamma*obj.Omega))\n",
    "\n",
    "    dP = -dPdR(obj)\n",
    "    xc = dP*obj.h*obj.h/(3*gamma*obj.R)\n",
    "\n",
    "    # eta = -dSigmadR(obj)/3 + (-dTdR(obj) + 3)/6\n",
    "    # xc = eta*obj.h*obj.h/obj.R\n",
    "    kes = electron_scattering_opacity(X=0.7)\n",
    "    L = 4 * np.pi * ct.G * ct.c * mbh / kes\n",
    "    g_thermal = 1.61*(gamma - 1)*xc*(L/Lc - 1)/(gamma*lam)\n",
    "    return g_thermal"
   ]
  },
  {
   "cell_type": "code",
   "execution_count": 55,
   "metadata": {},
   "outputs": [
    {
     "name": "stdout",
     "output_type": "stream",
     "text": [
      "### Sirko & Goodman 2003 parameters ###\n",
      "Mbh = 1.000000e+06 MSun\n",
      "Mdot = 1.298344e-02 MSun/yr\n",
      "le = 0.5\n",
      "Rs = 9.570121e-08 pc\n",
      "Rmin = 2.500000e+00 Rs\n",
      "Rmax = 1.000000e+07 Rs, 9.570121e-01 pc\n",
      "alpha = 0.01\n",
      "b = 0\n",
      "eps = 0.1\n",
      "X = 0.7\n",
      "Opacity = combined\n",
      "\n",
      "debug = False\n",
      "xtol = 1e-10\n",
      "root method = lm\n",
      "Q<1 at i=5849 (R=2.62e+04 Rs)\n",
      "Beginning star formation at index 5849\n",
      "Mdisk = 703749.3876329744 Msun\n",
      "Mdisk/Mbh = 0.7037493876329745\n",
      "sigma from M using M-sigma relation\n",
      "### Thompson et al. 2005 parameters ###\n",
      "Mbh = 1.000000e+06 MSun\n",
      "Mdot_out = 0.000000e+00 MSun/yr\n",
      "Rs = 9.570121e-08 pc\n",
      "Rin = 3.000000e+00 Rs\n",
      "Rout = 2.089838e+09 Rs = 2.000000e+02 pc\n",
      "sigma = 6.345392e+01 km/s\n",
      "epsilon =  0.001\n",
      "m =  0.2\n",
      "xi =  1.0\n",
      "Opacity = combined\n",
      "\n",
      "debug = False\n",
      "xtol = 1e-10\n",
      "root method = lm\n",
      "sigma from M using M-sigma relation\n",
      "### Thompson et al. 2005 parameters ###\n",
      "Mbh = 1.000000e+06 MSun\n",
      "Mdot_out = 1.500000e-02 MSun/yr\n",
      "Rs = 9.570121e-08 pc\n",
      "Rin = 3.000000e+00 Rs\n",
      "Rout = 1.000000e+07 Rs = 9.570121e-01 pc\n",
      "sigma = 6.345392e+01 km/s\n",
      "epsilon =  0.001\n",
      "m =  0.2\n",
      "xi =  1.0\n",
      "Opacity = combined\n",
      "\n",
      "debug = False\n",
      "xtol = 1e-10\n",
      "root method = lm\n",
      " ### Beginning integration at Rmax ###\n",
      "9951/10000"
     ]
    },
    {
     "name": "stderr",
     "output_type": "stream",
     "text": [
      "/Users/ddg672/Desktop/PycharmProjects/selection_effects/pdet_venv/lib/python3.8/site-packages/numpy/ma/core.py:6957: RuntimeWarning: overflow encountered in power\n",
      "  result = np.where(m, fa, umath.power(fa, fb)).view(basetype)\n",
      "/Users/ddg672/Desktop/PycharmProjects/selection_effects/pdet_venv/lib/python3.8/site-packages/numpy/ma/core.py:6957: RuntimeWarning: overflow encountered in power\n",
      "  result = np.where(m, fa, umath.power(fa, fb)).view(basetype)\n"
     ]
    },
    {
     "name": "stdout",
     "output_type": "stream",
     "text": [
      "### Switching to no star formation regime at i = 8859, R = 1803290.9434440897Rs ###\n",
      "Mdisk = 71499.93976318742 Msun\n",
      "Mdisk/Mbh = 0.07149993976318743\n"
     ]
    },
    {
     "name": "stderr",
     "output_type": "stream",
     "text": [
      "/Users/ddg672/Desktop/PycharmProjects/selection_effects/pdet_venv/lib/python3.8/site-packages/numpy/ma/core.py:6957: RuntimeWarning: overflow encountered in power\n",
      "  result = np.where(m, fa, umath.power(fa, fb)).view(basetype)\n",
      "/Users/ddg672/Desktop/PycharmProjects/selection_effects/pdet_venv/lib/python3.8/site-packages/numpy/ma/core.py:6957: RuntimeWarning: overflow encountered in power\n",
      "  result = np.where(m, fa, umath.power(fa, fb)).view(basetype)\n",
      "/Users/ddg672/Desktop/PycharmProjects/selection_effects/pdet_venv/lib/python3.8/site-packages/numpy/ma/core.py:6957: RuntimeWarning: overflow encountered in power\n",
      "  result = np.where(m, fa, umath.power(fa, fb)).view(basetype)\n",
      "/Users/ddg672/Desktop/PycharmProjects/selection_effects/pdet_venv/lib/python3.8/site-packages/numpy/ma/core.py:6957: RuntimeWarning: overflow encountered in power\n",
      "  result = np.where(m, fa, umath.power(fa, fb)).view(basetype)\n",
      "/Users/ddg672/Desktop/PycharmProjects/selection_effects/pdet_venv/lib/python3.8/site-packages/numpy/ma/core.py:6957: RuntimeWarning: overflow encountered in power\n",
      "  result = np.where(m, fa, umath.power(fa, fb)).view(basetype)\n",
      "/Users/ddg672/Desktop/PycharmProjects/selection_effects/pdet_venv/lib/python3.8/site-packages/numpy/ma/core.py:6957: RuntimeWarning: overflow encountered in power\n",
      "  result = np.where(m, fa, umath.power(fa, fb)).view(basetype)\n",
      "/Users/ddg672/Desktop/PycharmProjects/selection_effects/pdet_venv/lib/python3.8/site-packages/numpy/ma/core.py:6957: RuntimeWarning: overflow encountered in power\n",
      "  result = np.where(m, fa, umath.power(fa, fb)).view(basetype)\n",
      "/Users/ddg672/Desktop/PycharmProjects/selection_effects/pdet_venv/lib/python3.8/site-packages/numpy/ma/core.py:6957: RuntimeWarning: overflow encountered in power\n",
      "  result = np.where(m, fa, umath.power(fa, fb)).view(basetype)\n",
      "/Users/ddg672/Desktop/PycharmProjects/selection_effects/pdet_venv/lib/python3.8/site-packages/numpy/ma/core.py:6957: RuntimeWarning: overflow encountered in power\n",
      "  result = np.where(m, fa, umath.power(fa, fb)).view(basetype)\n",
      "/Users/ddg672/Desktop/PycharmProjects/selection_effects/pdet_venv/lib/python3.8/site-packages/numpy/ma/core.py:6957: RuntimeWarning: overflow encountered in power\n",
      "  result = np.where(m, fa, umath.power(fa, fb)).view(basetype)\n",
      "/Users/ddg672/Desktop/PycharmProjects/selection_effects/pdet_venv/lib/python3.8/site-packages/numpy/ma/core.py:6957: RuntimeWarning: overflow encountered in power\n",
      "  result = np.where(m, fa, umath.power(fa, fb)).view(basetype)\n",
      "/Users/ddg672/Desktop/PycharmProjects/selection_effects/pdet_venv/lib/python3.8/site-packages/numpy/ma/core.py:6957: RuntimeWarning: overflow encountered in power\n",
      "  result = np.where(m, fa, umath.power(fa, fb)).view(basetype)\n",
      "/Users/ddg672/Desktop/PycharmProjects/selection_effects/pdet_venv/lib/python3.8/site-packages/numpy/ma/core.py:6957: RuntimeWarning: overflow encountered in power\n",
      "  result = np.where(m, fa, umath.power(fa, fb)).view(basetype)\n"
     ]
    },
    {
     "data": {
      "image/png": "[encoded data removed]",
      "text/plain": [
       "<Figure size 720x720 with 8 Axes>"
      ]
     },
     "metadata": {
      "needs_background": "light"
     },
     "output_type": "display_data"
    }
   ],
   "source": [
    "disk_name = ['sirko', 'thompson']\n",
    "d_counter = 0\n",
    "\n",
    "f, axes = plt.subplots(4, 2, figsize=(10, 10), sharex=True, sharey='row', gridspec_kw=dict(hspace=0, wspace =0, height_ratios = (2, 2, 2, 1.2)), tight_layout=True)\n",
    "for axx in axes.flatten():\n",
    "    axx.set_yscale('log')\n",
    "    axx.set_xscale('log')\n",
    "\n",
    "for dname in disk_name:\n",
    "    Mbh = 1e6\n",
    "    q = 5e-6\n",
    "    if dname == 'thompson':\n",
    "\n",
    "        objin = Thompson.ThompsonAGN(Mbh = Mbh*ct.MSun, Mdot_out=0.,) #Sirko.SirkoAGN(Mbh = Mbh, b=0)  #\n",
    "        rout = objin.Rs*(1e7)\n",
    "        sigma = 200 * (Mbh / 1.3e8) ** (1 / 4.24)\n",
    "        Mdot_out = 1.5e-2\n",
    "        obj = Thompson.ThompsonAGN(Mbh=Mbh*ct.MSun, Rout = rout, Mdot_out=Mdot_out*ct.MSun/ct.yr)  # Sirko.SirkoAGN(Mbh = Mbh, b=0)  #\n",
    "        obj.solve_disk(N=1e4)\n",
    "    else:\n",
    "        le = 0.5\n",
    "        alpha = 0.01\n",
    "        obj = Sirko.SirkoAGN(Mbh=Mbh*ct.MSun, le=le, alpha=alpha, b=0)\n",
    "        obj.solve_disk(N=1e4)\n",
    "\n",
    "    #Bellovary equations\n",
    "    Gamma_0 = gamma_0(q, obj.h / obj.R, 2 * obj.rho * obj.h, obj.R, obj.Omega)\n",
    "\n",
    "    #Grishin equations\n",
    "    dSig = dSigmadR(obj)\n",
    "    dT = dTdR(obj)\n",
    "    cI_p10 = CI_p10(dSig, dT)\n",
    "    Gamma_I_p10 = cI_p10*Gamma_0\n",
    "    gamma = 5/3\n",
    "\n",
    "    cI_jm_tot = CI_jm17_tot(dSig, dT, gamma, obj)\n",
    "    Gamma_I_jm_tot = cI_jm_tot*Gamma_0\n",
    "    Gamma_therm = gamma_thermal(gamma, obj, q)*Gamma_0*obj.R/obj.h\n",
    "\n",
    "    Gamma_tot = Gamma_therm + Gamma_I_jm_tot\n",
    "\n",
    "    #-----Plotting-----#\n",
    "\n",
    "\n",
    "    linestyles = ['-', '--', '-.', ':']\n",
    "    ax = axes[:, d_counter]\n",
    "    if hasattr(obj, 'alpha'):\n",
    "        ax[0].text(10 ** 1.2, 10 ** 40,  r'${\\rm Sirko \\, and \\, Goodman}$' )\n",
    "    else:\n",
    "        ax[0].text(10 ** 1.2, 10 ** 40,  r'${\\rm Thompson}$')\n",
    "\n",
    "    for iGamma, Gamma in enumerate([Gamma_I_jm_tot, Gamma_therm, Gamma_tot]):\n",
    "        maskg = Gamma >= 0\n",
    "        indices = np.nonzero(maskg[1:] != maskg[:-1])[0] + 1\n",
    "        Gammas = np.split(Gamma, indices)\n",
    "        Rs = np.split(obj.R, indices)\n",
    "        ignnum = 0\n",
    "        ignum2 = 0\n",
    "        for iseg, seg in enumerate(Gammas):\n",
    "            if seg[0] > 0.:\n",
    "                if Rs[iseg][0] / obj.Rs > ignnum + 50:\n",
    "                    ax[iGamma].axvline(Rs[iseg][0] / obj.Rs, -100, 100, color = 'k', alpha = 0.1)\n",
    "                    ignnum = Rs[iseg][0] / obj.Rs\n",
    "\n",
    "                ax[iGamma].plot(Rs[iseg]/obj.Rs, abs(seg)*ct.SI_to_gcm2, c='C0', zorder = 2)\n",
    "                if iGamma == 2 and Rs[iseg][0] / obj.Rs > ignum2 + 50:\n",
    "                    ax[3].axvline(Rs[iseg][0] / obj.Rs, -100, 100, color='k', alpha=0.1)\n",
    "                    ignum2 = Rs[iseg][0] / obj.Rs\n",
    "\n",
    "            else:\n",
    "                ax[iGamma].plot(Rs[iseg] / obj.Rs, abs(seg*ct.SI_to_gcm2) , c='C1', zorder = 2)\n",
    "        if iGamma == 0:\n",
    "            Gamma2 = Gamma_I_p10\n",
    "            maskg2 = Gamma2 >= 0\n",
    "            indices2 = np.nonzero(maskg2[1:] != maskg2[:-1])[0] + 1\n",
    "            Gammas2 = np.split(Gamma2, indices2)\n",
    "            Rs2 = np.split(obj.R, indices2)\n",
    "            for iseg2, seg2 in enumerate(Gammas2):\n",
    "\n",
    "                if seg2[0] > 0.:\n",
    "                    ax[iGamma].plot(Rs2[iseg2] / obj.Rs, abs(seg2), c='C0', zorder = 1, alpha = 0.4)\n",
    "                else:\n",
    "                    ax[iGamma].plot(Rs2[iseg2] / obj.Rs, abs(seg2), c='C1', zorder = 1, alpha = 0.4)\n",
    "    ax[3].plot(obj.R/obj.Rs, 2*obj.h*obj.rho*ct.SI_to_gcm2, label = r\"$\\Sigma_{\\rm g} [{\\rm g cm}^{-2}]$\")\n",
    "\n",
    "\n",
    "    d_counter += 1\n",
    "    \n",
    "pos_line = mlines.Line2D([], [], color='C0', marker='s',\n",
    "                           markersize=0, label=r'$\\rm{Inward}$')\n",
    "neg_line = mlines.Line2D([], [], color='C1', marker='s',\n",
    "                            markersize=0, label=r'$\\rm{Outward}$')\n",
    "artists_handles = [pos_line, neg_line]\n",
    "axes[2, 1].legend(handles=artists_handles, framealpha = 1)\n",
    "\n",
    "pos_line2 = mlines.Line2D([], [], color='C0', marker='s', alpha = 0.4,\n",
    "                         markersize=0,)\n",
    "neg_line2 = mlines.Line2D([], [], color='C1', marker='s', alpha = 0.4,\n",
    "                         markersize=0,)\n",
    "from matplotlib.legend_handler import HandlerLine2D, HandlerTuple\n",
    "axes[0,1].legend(handles=[(pos_line, neg_line), (pos_line2, neg_line2,) ],\n",
    "                 labels=[r'${\\rm Jim \\acute{e} nez \\, and \\, Masset \\, (2017)}$', r'$\\rm Paardekooper \\, et \\, al. \\, (2010)$',],\n",
    "                 handler_map = {tuple: HandlerTuple(ndivide = None, pad = 0.)},\n",
    "                 framealpha = 1)\n",
    "\n",
    "axes[0,0].set_ylabel(r'${\\Gamma_{\\rm I} \\, {\\rm [g \\, cm}^{2}{\\rm s}^{-2}{\\rm ]} }$')\n",
    "axes[1,0].set_ylabel(r'${\\Gamma_{\\rm therm} \\, {\\rm [g \\, cm}^{2}{\\rm s}^{-2}{\\rm ]} }$')\n",
    "axes[2,0].set_ylabel(r'${\\Gamma_{\\rm tot} \\, {\\rm [g \\, cm}^{2}{\\rm s}^{-2}{\\rm ]} }$')\n",
    "axes[3, 0].set_ylabel(r'$\\Sigma_{\\rm g} [{\\rm g \\, cm}^{-2}]$')\n",
    "\n",
    "x_label = r\"$r \\, [R_{\\rm s}]$\"\n",
    "axes[3, 0].set_xlabel(x_label)\n",
    "axes[3, 1].set_xlabel(x_label)\n",
    "\n",
    "axes[0, 0].set_ylim((1e25, 1e42))\n",
    "\n",
    "\n",
    "axes[1, 0].set_ylim((5e24, 1e42))\n",
    "\n",
    "axes[2, 0].set_ylim((1e25, 1e42))\n",
    "\n",
    "\n",
    "axes[3, 0].set_ylim((1e1, 1e7))\n",
    "\n",
    "for axx in axes.flatten():\n",
    "    axx.yaxis.set_ticks_position('both')\n",
    "    axx.xaxis.set_ticks_position('both')\n",
    "    axx.set_xlim((1e1, 1e7))\n",
    "axes[0,1].set_xlim((1.1e1, 1e7))\n",
    "\n",
    "f.align_ylabels()\n",
    "plt.show()"
   ]
  }
 ],
 "metadata": {
  "kernelspec": {
   "display_name": "PyCharm (Pdet)",
   "language": "python",
   "name": "pycharm-5fc630b0"
  },
  "language_info": {
   "codemirror_mode": {
    "name": "ipython",
    "version": 3
   },
   "file_extension": ".py",
   "mimetype": "text/x-python",
   "name": "python",
   "nbconvert_exporter": "python",
   "pygments_lexer": "ipython3",
   "version": "3.8.2"
  }
 },
 "nbformat": 4,
 "nbformat_minor": 1
}
